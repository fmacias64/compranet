{
 "cells": [
  {
   "cell_type": "markdown",
   "metadata": {},
   "source": [
    "# Scraping News Articles"
   ]
  },
  {
   "cell_type": "code",
   "execution_count": 35,
   "metadata": {
    "collapsed": true
   },
   "outputs": [],
   "source": [
    "#from selenium.webdriver.chrome.options import Options\n",
    "#VS Selenium\n",
    "from selenium import webdriver\n",
    "from selenium.webdriver.common.keys import Keys\n",
    "# Tempfile\n",
    "import tempfile\n",
    "\n",
    "# Time\n",
    "import time\n",
    "\n",
    "# HTML parsing\n",
    "import bs4\n",
    "from bs4 import BeautifulSoup as bs\n",
    "\n",
    "# I/O\n",
    "from io import StringIO\n",
    "\n",
    "# OS\n",
    "import os\n",
    "\n",
    "\n",
    "import sys\n",
    "import platform\n",
    "import locale\n",
    "\n",
    "import urllib.request\n",
    "from datetime import datetime\n",
    "import re\n",
    "import hashlib\n",
    "import time \n",
    "from datetime import *\n",
    "import requests\n",
    "#import dateFinder as df       \n",
    "\n"
   ]
  },
  {
   "cell_type": "code",
   "execution_count": 28,
   "metadata": {
    "collapsed": true
   },
   "outputs": [],
   "source": [
    "#javascript: http://apps.slp.gob.mx/po/ConsultaDocumentos.aspx\n",
    "if platform.system() == 'Darwin': \n",
    "    sys.path.append(\"/Users/manuelaragones/Dropbox/0_DeepDive/git_repositories/dd_toolkit\")\n",
    "    locale.setlocale(locale.LC_TIME, 'es_ES')\n",
    "elif platform.system() == 'Linux': \n",
    "    sys.path.append(\"/home/deep_dive_mbp/dd_toolkit\")\n",
    "    locale.setlocale(locale.LC_TIME, 'es_ES.utf8')\n"
   ]
  },
  {
   "cell_type": "code",
   "execution_count": 29,
   "metadata": {
    "collapsed": true
   },
   "outputs": [],
   "source": [
    "import urllib.request, time, re, random, hashlib\n",
    "from bs4 import BeautifulSoup as bs\n",
    "\n",
    "# Compassionate Caching\n",
    "# Inspired by http://lethain.com/an-introduction-to-compassionate-screenscraping/\n",
    "\n",
    "def dump_if_not_local(url, response):\n",
    "    url_hash = hashlib.sha1(url.encode()).hexdigest()\n",
    "    filename = 'cache-file-{}'.format(url_hash)\n",
    "    try:\n",
    "        with open(filename, 'r') as f:\n",
    "            result = f.read()\n",
    "            if len(result) > 0:\n",
    "                print(\"In cache:\", url)\n",
    "                return result\n",
    "    except:\n",
    "        pass\n",
    "    with urllib.request.urlopen(req) as response:\n",
    "        result = str(response.read())\n",
    "        with open(filename, 'w') as f:\n",
    "            f.write(result)\n",
    "        print(\"Writing to cache:\", url )\n",
    "        return result"
   ]
  },
  {
   "cell_type": "markdown",
   "metadata": {},
   "source": [
    "# first try"
   ]
  },
  {
   "cell_type": "code",
   "execution_count": 30,
   "metadata": {
    "collapsed": true
   },
   "outputs": [],
   "source": [
    "chromeOptions = webdriver.ChromeOptions()\n",
    "tgt = tempfile.mkdtemp()\n",
    "prefs = {\"browser.download.folderList\":2, \"browser.download.manager.showWhenStarting\":False,\"browser.download.dir\": \"~/\",\"browser.helperApps.neverAsk.saveToDisk\":\"application/pdf\",\"pdfjs.disabled\":\"true\",\"plugins.plugins_list\": [{\"enabled\":False,\"name\":\"Chrome PDF Viewer\"}],\"download.default_directory\" : tgt}\n",
    "chromeOptions.add_experimental_option(\"prefs\",prefs)\n",
    "driver = webdriver.Chrome('/Users/manuelaragones/bin/chromedriver',chrome_options=chromeOptions)"
   ]
  },
  {
   "cell_type": "code",
   "execution_count": 31,
   "metadata": {
    "collapsed": true
   },
   "outputs": [],
   "source": [
    "#URL\n",
    "driver.get('http://biblioteca.itam.mx/sitio/?page=BD')  # load response to the browser"
   ]
  },
  {
   "cell_type": "code",
   "execution_count": 32,
   "metadata": {
    "collapsed": true
   },
   "outputs": [],
   "source": [
    "driver.find_element_by_id (\"contin\").click() #//*[@id=\"contin\"]"
   ]
  },
  {
   "cell_type": "code",
   "execution_count": 39,
   "metadata": {
    "collapsed": true
   },
   "outputs": [],
   "source": [
    "driver.find_element_by_id(\"titulo134\").click()\n",
    "#.send_keys(Keys.COMMAND + Keys.TAB)"
   ]
  },
  {
   "cell_type": "code",
   "execution_count": 45,
   "metadata": {
    "collapsed": true
   },
   "outputs": [],
   "source": [
    "tabs = driver.window_handles"
   ]
  },
  {
   "cell_type": "code",
   "execution_count": null,
   "metadata": {
    "collapsed": true
   },
   "outputs": [],
   "source": [
    "driver.switch_to_window(tabs[1])"
   ]
  },
  {
   "cell_type": "code",
   "execution_count": null,
   "metadata": {
    "collapsed": true
   },
   "outputs": [],
   "source": []
  },
  {
   "cell_type": "code",
   "execution_count": 51,
   "metadata": {
    "collapsed": true
   },
   "outputs": [],
   "source": [
    "busqueda = driver.find_element_by_id(\"queryTermField\") # búsqueda"
   ]
  },
  {
   "cell_type": "code",
   "execution_count": 52,
   "metadata": {
    "collapsed": true
   },
   "outputs": [],
   "source": [
    "busqueda.send_keys(\"Empresa Fantasma\")"
   ]
  },
  {
   "cell_type": "code",
   "execution_count": null,
   "metadata": {
    "collapsed": true
   },
   "outputs": [],
   "source": [
    "\"\"\" \n",
    "fields -> //*[@id=\"fieldsSelect\"]\n",
    "    Anywhere: ALL; \n",
    "    Author: AU;\n",
    "    Doc Text: FT;\n",
    "    Pub Title: PUB\n",
    "and/or/not -> //*[@id=\"opsSelect\"]\n",
    "\n",
    "Source Type -> \n",
    "    //*[@id=\"selectAll_SourceType\"]\n",
    "    //*[@id=\"SourceType_Magazines\"]\n",
    "    //*[@id=\"SourceType_Newspapers\"]\n",
    "    //*[@id=\"SourceType_Blogs,_Podcasts,___Websites\"]\n",
    "    \n",
    "Dates -> //*[@id=\"select_multiDateRange\"]\n",
    "Sort_by -> //*[@id=\"sortType\"] (Date)\n",
    "SUbmit -> //*[@id=\"searchToResultPageBottom\"]\n",
    "\n",
    "Select all -> //*[@id=\"mlcbAll\"]\n",
    "\"\"\""
   ]
  },
  {
   "cell_type": "code",
   "execution_count": 54,
   "metadata": {
    "collapsed": true
   },
   "outputs": [],
   "source": [
    "doc_type = driver.find_element_by_id(\"SourceType_Newspapers\").click()"
   ]
  },
  {
   "cell_type": "code",
   "execution_count": 56,
   "metadata": {
    "collapsed": true
   },
   "outputs": [],
   "source": [
    "sort_by = driver.find_element_by_id(\"sortType\")\n",
    "sort_by.text"
   ]
  },
  {
   "cell_type": "code",
   "execution_count": 63,
   "metadata": {
    "collapsed": true
   },
   "outputs": [],
   "source": [
    "submit = driver.find_element_by_id(\"searchToResultPageBottom\").click()"
   ]
  },
  {
   "cell_type": "code",
   "execution_count": 65,
   "metadata": {
    "collapsed": true
   },
   "outputs": [],
   "source": [
    "#select_all = \n",
    "driver.find_element_by_id(\"mlcbAll\").click()"
   ]
  },
  {
   "cell_type": "code",
   "execution_count": 69,
   "metadata": {
    "collapsed": true
   },
   "outputs": [],
   "source": [
    "# next set\n",
    "#//*[@id=\"mainContentRight\"]/div[6]/ul/li[5]/a\n",
    "driver.find_element_by_class_name(\"arrows_base_sprite\").click()"
   ]
  },
  {
   "cell_type": "code",
   "execution_count": 75,
   "metadata": {
    "collapsed": true
   },
   "outputs": [],
   "source": [
    "# \"Next page\"\n",
    "driver.find_element_by_xpath('//*[@id=\"mainContentRight\"]/div[6]/ul/li[5]/a').click()\n",
    "# \"Previous page\"\n",
    "#driver.find_element_by_xpath('//*[@id=\"mainContentRight\"]/div[6]/ul/li[2]/a').click()"
   ]
  },
  {
   "cell_type": "code",
   "execution_count": 76,
   "metadata": {
    "collapsed": true
   },
   "outputs": [],
   "source": [
    "driver.find_element_by_id(\"mlcbAll\").click()"
   ]
  },
  {
   "cell_type": "code",
   "execution_count": 81,
   "metadata": {
    "collapsed": true
   },
   "outputs": [],
   "source": [
    "# ir a carpeta para guardar\n",
    "driver.find_element_by_xpath('//*[@id=\"gaSelectedItems_link\"]/span[2]').click()"
   ]
  },
  {
   "cell_type": "code",
   "execution_count": 82,
   "metadata": {
    "collapsed": true
   },
   "outputs": [],
   "source": [
    "# save results \n",
    "driver.find_element_by_xpath('//*[@id=\"tsMore\"]').click()"
   ]
  },
  {
   "cell_type": "code",
   "execution_count": 83,
   "metadata": {
    "collapsed": true
   },
   "outputs": [],
   "source": [
    "driver.find_element_by_xpath('//*[@id=\"saveExportLink_1\"]').click()"
   ]
  },
  {
   "cell_type": "code",
   "execution_count": 84,
   "metadata": {
    "collapsed": true
   },
   "outputs": [],
   "source": [
    "driver.find_element_by_xpath('//*[@id=\"submitButton_15bedc072b2\"]').click()"
   ]
  },
  {
   "cell_type": "code",
   "execution_count": 48,
   "metadata": {
    "collapsed": true
   },
   "outputs": [],
   "source": [
    "#driver.find_element_by_id(\"cmdLine\").click()"
   ]
  },
  {
   "cell_type": "code",
   "execution_count": 49,
   "metadata": {
    "collapsed": true
   },
   "outputs": [],
   "source": [
    "#driver.back()"
   ]
  },
  {
   "cell_type": "code",
   "execution_count": null,
   "metadata": {
    "collapsed": true
   },
   "outputs": [],
   "source": []
  }
 ],
 "metadata": {
  "kernelspec": {
   "display_name": "Python 3",
   "language": "python",
   "name": "python3"
  },
  "language_info": {
   "codemirror_mode": {
    "name": "ipython",
    "version": 3
   },
   "file_extension": ".py",
   "mimetype": "text/x-python",
   "name": "python",
   "nbconvert_exporter": "python",
   "pygments_lexer": "ipython3",
   "version": "3.6.1"
  }
 },
 "nbformat": 4,
 "nbformat_minor": 2
}
